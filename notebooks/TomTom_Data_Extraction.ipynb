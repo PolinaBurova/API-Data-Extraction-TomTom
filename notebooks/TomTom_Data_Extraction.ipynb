{
  "cells": [
    {
      "cell_type": "code",
      "execution_count": 7,
      "metadata": {
        "colab": {
          "base_uri": "https://localhost:8080/"
        },
        "id": "RcmTx2Tftd4n",
        "outputId": "432fb970-9184-46ea-814b-2c91511daf6a"
      },
      "outputs": [
        {
          "name": "stdout",
          "output_type": "stream",
          "text": [
            "Key works\n"
          ]
        }
      ],
      "source": [
        "# send HTTP requests to web servers and handle their responses\n",
        "import requests\n",
        "\n",
        "api_key = \"{api_key}\"\n",
        "\n",
        "# Construct the URL with the correct parameters\n",
        "url = f\"https://api.tomtom.com/map/1/tile/basic/main/0/0/0.png?key={api_key}\"\n",
        "\n",
        "# Send a GET request to the URL. This function sends an HTTP GET request to the specified URL and returns a Response object containing the response from the server.\n",
        "response = requests.get(url)\n",
        "\n",
        "# Check the response status code\n",
        "if response.status_code == 200:\n",
        "    print(\"Key works\")\n",
        "else:\n",
        "    print(\"Wrong\")\n",
        "\n",
        "\n",
        "# In HTTP (Hypertext Transfer Protocol), status code 200 is a standard response code indicating that the request has succeeded. When you send a request to a server, receiving a status code of 200 usually means that the request was processed successfully, and the server is returning the requested data or resource."
      ]
    },
    {
      "cell_type": "code",
      "execution_count": 22,
      "metadata": {
        "colab": {
          "base_uri": "https://localhost:8080/"
        },
        "id": "Uo8E4Z-4l_X2",
        "outputId": "a2d14547-1423-48b7-b750-d66564c31fc2"
      },
      "outputs": [
        {
          "name": "stdout",
          "output_type": "stream",
          "text": [
            "Total cafes in Baixa Pombalina: 26\n",
            "Cafes:\n",
            "- Name: Kaffeehaus, Address: Rua Anchieta 3, 1200 Lisboa, Position: {'lat': 38.709866, 'lon': -9.141014}\n",
            "- Name: Delmare Café, Address: Rua dos Sapateiros, 1100 Lisboa, Position: {'lat': 38.7101, 'lon': -9.137788}\n",
            "- Name: Brown Coffee Bean, Address: Rua da Vitória, 1100 Lisboa, Position: {'lat': 38.710936, 'lon': -9.138418}\n",
            "- Name: Café 100 Artes, Address: Rua dos Fanqueiros, 1100 Lisboa, Position: {'lat': 38.711462, 'lon': -9.136142}\n",
            "- Name: Vertigo Café, Address: Travessa do Carmo, 1200 Lisboa, Position: {'lat': 38.711256, 'lon': -9.141556}\n",
            "- Name: Club Noir, Address: Rua da Madalena, 1100 Lisboa, Position: {'lat': 38.712143, 'lon': -9.136}\n",
            "- Name: Café Bertrand, Address: Rua Garrett 73-75, 1200 Lisboa, Position: {'lat': 38.710651, 'lon': -9.141126}\n",
            "- Name: Lou's Cafe, Address: Rua Augusta 131, 1100 Lisboa, Position: {'lat': 38.71211, 'lon': -9.138085}\n",
            "- Name: Royale Café, Address: Largo Rafael Bordalo Pinheiro 29, 1200 Lisboa, Position: {'lat': 38.711704, 'lon': -9.141653}\n",
            "- Name: The Coffee., Address: Rua dos Douradores 96, 1100 Lisboa, Position: {'lat': 38.711399, 'lon': -9.136534}\n"
          ]
        }
      ],
      "source": [
        "# I used POI (Point of Interest Search): /search/{versionNumber}/poiSearch/{query}.{ext}.\n",
        "# For query, I used \"cafe\" as keyword; ext is json; and for topLeft and btmRight, which show the surrounding area of Baixa Pombalina (radius of approx. 600m), I used these GPS coordinates: 38.7125, -9.1426 and 38.7098, -9.1349\n",
        "\n",
        "import requests\n",
        "\n",
        "api_key = \"{api_key}\"\n",
        "\n",
        "# Construct the URL to retrieve cafes in the Baixa Pombalina area\n",
        "url = f\"https://api.tomtom.com/search/2/poiSearch/cafe.json?topLeft=38.7125%2C%20-9.1426&btmRight=38.7098%2C%20-9.1349&view=Unified&relatedPois=off&key={api_key}\"\n",
        "\n",
        "# Send a GET request to the TomTom Maps API\n",
        "response = requests.get(url)\n",
        "\n",
        "# Check if the request was successful\n",
        "if response.status_code == 200:\n",
        "    # Parse the JSON response\n",
        "    cafes_data = response.json() # This method converts the JSON data into a Python dictionary (cafes_data), making it easier to extract information from the response.\n",
        "\n",
        "    # Extract the total number of cafes found ('summary' and 'totalResults' are in the API Result page)\n",
        "    total_cafes = cafes_data['summary']['totalResults']\n",
        "\n",
        "    # Extract information about each cafe\n",
        "    cafes = []  #creates a new list of cafes\n",
        "    for result in cafes_data['results']:\n",
        "        cafe_name = result['poi']['name']\n",
        "        cafe_address = result['address']['freeformAddress']\n",
        "        cafe_position = result['position']\n",
        "        cafes.append({'name': cafe_name, 'address': cafe_address, 'position': cafe_position})\n",
        "\n",
        "    # Display the results\n",
        "    print(f\"Total cafes in Baixa Pombalina: {total_cafes}\")\n",
        "    print(\"Cafes:\")\n",
        "    for cafe in cafes:\n",
        "        print(f\"- Name: {cafe['name']}, Address: {cafe['address']}, Position: {cafe['position']}\")\n",
        "else:\n",
        "    print(\"Failed to retrieve cafes from the TomTom Maps API.\")\n"
      ]
    },
    {
      "cell_type": "code",
      "execution_count": null,
      "metadata": {
        "id": "IdVRr2axnW7l"
      },
      "outputs": [],
      "source": [
        "# The final result shows a discrepancy where it prints that there are 26 cafes in total but only displays details for 10 cafes. This could be due to pagination or result limits set by the TomTom API.\n",
        "# This discrepancy might lead to False Negatives: to identify any cafes that are known to exist but are missing from the retrieved data. These could be false negatives.\n",
        "\n",
        "# As for false positives: should look for entries that seem suspicious or do not match known cafes in the area. These could be false positives. (not in this case)\n",
        "\n",
        "# For duplicates: Manually compare the attributes of each cafe entry, such as name, address, and position, to identify duplicates. There are none in the shown results.\n",
        "\n"
      ]
    }
  ],
  "metadata": {
    "colab": {
      "provenance": []
    },
    "kernelspec": {
      "display_name": "Python 3",
      "name": "python3"
    },
    "language_info": {
      "name": "python"
    }
  },
  "nbformat": 4,
  "nbformat_minor": 0
}
